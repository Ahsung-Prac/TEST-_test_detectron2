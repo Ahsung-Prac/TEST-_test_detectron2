{
 "cells": [
  {
   "cell_type": "code",
   "execution_count": 26,
   "metadata": {},
   "outputs": [],
   "source": [
    "# You may need to restart your runtime prior to this, to let your installation take effect\n",
    "# Some basic setup\n",
    "# Setup detectron2 logger\n",
    "import detectron2\n",
    "from detectron2.utils.logger import setup_logger\n",
    "setup_logger()\n",
    "\n",
    "# import some common libraries\n",
    "import numpy as np\n",
    "import cv2\n",
    "import random\n",
    "import torch\n",
    "import matplotlib.pyplot as plt\n",
    "import expandMask\n",
    "# import some common detectron2 utilities\n",
    "from detectron2 import model_zoo\n",
    "from detectron2.engine import DefaultPredictor\n",
    "from detectron2.config import get_cfg\n",
    "from detectron2.utils.visualizer import Visualizer\n",
    "from detectron2.utils.visualizer import VisImage\n",
    "from detectron2.data import MetadataCatalog"
   ]
  },
  {
   "cell_type": "code",
   "execution_count": 27,
   "metadata": {},
   "outputs": [
    {
     "name": "stdout",
     "output_type": "stream",
     "text": [
      "(1080, 1440, 3)\n"
     ]
    }
   ],
   "source": [
    "im = cv2.imread(\"/home/asung/detImage/h.jpg\")\n",
    "print(im.shape)"
   ]
  },
  {
   "cell_type": "code",
   "execution_count": 28,
   "metadata": {},
   "outputs": [],
   "source": [
    "cfg = get_cfg()\n",
    "# add project-specific config (e.g., TensorMask) here if you're not running a model in detectron2's core library\n",
    "# start path in configs [dir]\n",
    "fileName = \"COCO-Keypoints/keypoint_rcnn_R_50_FPN_3x.yaml\"\n",
    "model = model_zoo.get_config_file(fileName)\n",
    "\n",
    "cfg.merge_from_file(model)\n",
    "cfg.MODEL.ROI_HEADS.SCORE_THRESH_TEST = 0.5  # set threshold for this model\n",
    "cfg.merge_from_list(['MODEL.DEVICE','cpu'])\n",
    "\n",
    "# Find a model from detectron2's model zoo. You can either use the https://dl.fbaipublicfiles.... url, or use the detectron2:// shorthand\n",
    "cfg.MODEL.WEIGHTS = \"detectron2://\"+model_zoo.get_weight_suffix(fileName)\n",
    "predictor = DefaultPredictor(cfg)\n",
    "outputs = predictor(im)"
   ]
  },
  {
   "cell_type": "code",
   "execution_count": 29,
   "metadata": {
    "scrolled": true
   },
   "outputs": [
    {
     "name": "stdout",
     "output_type": "stream",
     "text": [
      "Instances(num_instances=25, image_height=1080, image_width=1440, fields=[pred_boxes, scores, pred_classes, pred_keypoints]) \n",
      "\n",
      "\n",
      "class:  torch.Size([25]) \n",
      " tensor([0, 0, 0, 0, 0, 0, 0, 0, 0, 0, 0, 0, 0, 0, 0, 0, 0, 0, 0, 0, 0, 0, 0, 0,\n",
      "        0]) \n",
      "\n",
      "boxes:  torch.Size([25, 4]) \n",
      " Boxes(tensor([[6.2089e+02, 7.1486e+02, 8.8054e+02, 1.0758e+03],\n",
      "        [8.4417e+02, 6.5449e+02, 1.0264e+03, 9.1244e+02],\n",
      "        [6.3818e+01, 6.5377e+02, 2.7729e+02, 1.0221e+03],\n",
      "        [1.0156e+03, 1.0021e+03, 1.2124e+03, 1.0781e+03],\n",
      "        [1.0238e+00, 6.5231e+02, 9.1711e+01, 8.2163e+02],\n",
      "        [3.2150e+02, 6.4347e+02, 5.1516e+02, 9.1342e+02],\n",
      "        [1.2064e+03, 6.1525e+02, 1.3207e+03, 7.3546e+02],\n",
      "        [1.1963e+03, 6.5313e+02, 1.3286e+03, 8.0556e+02],\n",
      "        [2.1894e+02, 6.3339e+02, 3.3521e+02, 7.4637e+02],\n",
      "        [9.6548e+02, 6.3944e+02, 1.1059e+03, 7.9714e+02],\n",
      "        [2.9315e+02, 8.6108e+02, 6.0347e+02, 1.0769e+03],\n",
      "        [1.0600e+03, 6.8772e+02, 1.2622e+03, 9.1019e+02],\n",
      "        [6.0587e+02, 6.4751e+02, 7.1593e+02, 8.1417e+02],\n",
      "        [1.0583e+03, 6.1106e+02, 1.1602e+03, 7.0755e+02],\n",
      "        [7.2019e+02, 6.6276e+02, 8.5276e+02, 8.6479e+02],\n",
      "        [3.2528e+02, 6.4738e+02, 4.1155e+02, 7.5337e+02],\n",
      "        [4.3609e+02, 5.4788e+02, 4.7696e+02, 6.2905e+02],\n",
      "        [1.6935e+02, 5.8957e+02, 2.1416e+02, 6.4077e+02],\n",
      "        [1.8978e+02, 6.0395e+02, 2.6159e+02, 7.1397e+02],\n",
      "        [8.4765e+02, 5.9965e+02, 9.1392e+02, 7.1569e+02],\n",
      "        [5.5501e+02, 6.3220e+02, 6.4321e+02, 7.0878e+02],\n",
      "        [4.2714e+02, 6.3780e+02, 5.0665e+02, 7.2928e+02],\n",
      "        [1.3830e+03, 6.1235e+02, 1.4395e+03, 7.3469e+02],\n",
      "        [5.8413e+02, 5.4953e+02, 6.2826e+02, 6.3629e+02],\n",
      "        [5.0513e+02, 5.9516e+02, 5.4765e+02, 6.5947e+02]])) \n",
      "\n",
      "scores:  torch.Size([25]) \n",
      " tensor([0.9922, 0.9862, 0.9825, 0.9726, 0.9681, 0.9656, 0.9390, 0.9368, 0.9327,\n",
      "        0.9267, 0.9188, 0.9171, 0.8429, 0.8008, 0.7992, 0.7927, 0.7837, 0.7389,\n",
      "        0.7239, 0.6907, 0.6792, 0.6300, 0.6231, 0.5925, 0.5218]) \n",
      "\n",
      "keypoint:\n",
      " torch.Size([25, 17, 3]) \n",
      " tensor([[[7.8435e+02, 7.9768e+02, 1.0914e-01],\n",
      "         [7.8300e+02, 7.8691e+02, 3.3773e-02],\n",
      "         [7.8435e+02, 7.8691e+02, 1.0542e-01],\n",
      "         ...,\n",
      "         [8.5296e+02, 1.0428e+03, 2.4671e-02],\n",
      "         [6.4309e+02, 1.0751e+03, 2.3157e-02],\n",
      "         [8.6103e+02, 1.0751e+03, 2.1238e-02]],\n",
      "\n",
      "        [[9.6408e+02, 7.1293e+02, 8.5661e-02],\n",
      "         [8.9307e+02, 6.9681e+02, 8.8641e-02],\n",
      "         [9.6140e+02, 7.0487e+02, 6.3627e-02],\n",
      "         ...,\n",
      "         [1.0056e+03, 8.9431e+02, 6.3213e-02],\n",
      "         [8.7699e+02, 9.1177e+02, 7.1802e-03],\n",
      "         [1.0096e+03, 9.1177e+02, 3.4386e-02]],\n",
      "\n",
      "        [[2.0143e+02, 7.2191e+02, 3.7580e-01],\n",
      "         [2.0278e+02, 7.1381e+02, 3.7432e-01],\n",
      "         [2.0278e+02, 7.1381e+02, 5.3364e-01],\n",
      "         ...,\n",
      "         [2.4977e+02, 9.1621e+02, 3.2505e-02],\n",
      "         [2.4842e+02, 1.0214e+03, 1.9569e-02],\n",
      "         [2.4305e+02, 1.0214e+03, 4.0080e-02]],\n",
      "\n",
      "        ...,\n",
      "\n",
      "        [[1.4321e+03, 6.2781e+02, 2.9438e-02],\n",
      "         [1.4348e+03, 6.2513e+02, 4.4118e-02],\n",
      "         [1.4294e+03, 6.2647e+02, 4.1473e-02],\n",
      "         ...,\n",
      "         [1.4254e+03, 6.9907e+02, 1.4268e-02],\n",
      "         [1.4186e+03, 7.2999e+02, 1.4162e-02],\n",
      "         [1.4200e+03, 7.2864e+02, 4.6765e-03]],\n",
      "\n",
      "        [[6.0085e+02, 5.6221e+02, 9.2790e-02],\n",
      "         [6.0486e+02, 5.5820e+02, 1.0216e-01],\n",
      "         [5.9951e+02, 5.5954e+02, 1.2353e-01],\n",
      "         ...,\n",
      "         [5.9684e+02, 6.3162e+02, 1.5752e-02],\n",
      "         [6.1556e+02, 6.3563e+02, 3.2980e-02],\n",
      "         [5.9416e+02, 6.3563e+02, 1.0794e-02]],\n",
      "\n",
      "        [[5.3503e+02, 6.1593e+02, 9.3802e-02],\n",
      "         [5.3503e+02, 6.1325e+02, 3.9956e-02],\n",
      "         [5.3503e+02, 6.1325e+02, 8.7922e-02],\n",
      "         ...,\n",
      "         [5.4300e+02, 6.5880e+02, 1.6317e-02],\n",
      "         [5.1244e+02, 6.4540e+02, 8.7769e-03],\n",
      "         [5.3902e+02, 6.5880e+02, 8.0262e-03]]]) \n",
      "\n"
     ]
    }
   ],
   "source": [
    "# look at the outputs. See https://detectron2.readthedocs.io/tutorials/models.html#model-output-format for specification\n",
    "#print(outputs)\n",
    "#print(\"\\n\\n\\n\\n\\n\\n\")\n",
    "print(outputs[\"instances\"],\"\\n\\n\")\n",
    "print(\"class: \",outputs[\"instances\"].pred_classes.shape,\"\\n\",outputs[\"instances\"].pred_classes,\"\\n\")\n",
    "print(\"boxes: \",outputs[\"instances\"].pred_boxes.tensor.shape,\"\\n\",outputs[\"instances\"].pred_boxes,\"\\n\")\n",
    "print(\"scores: \" ,outputs[\"instances\"].scores.shape ,\"\\n\",outputs[\"instances\"].scores,\"\\n\")\n",
    "print(\"keypoint:\\n\",outputs[\"instances\"].pred_keypoints.shape ,\"\\n\",outputs[\"instances\"].pred_keypoints,\"\\n\")"
   ]
  },
  {
   "cell_type": "code",
   "execution_count": 44,
   "metadata": {},
   "outputs": [
    {
     "data": {
      "text/plain": [
       "tensor(0.0879)"
      ]
     },
     "execution_count": 44,
     "metadata": {},
     "output_type": "execute_result"
    }
   ],
   "source": [
    "outputs[\"instances\"].pred_keypoints[24][2][2]"
   ]
  },
  {
   "cell_type": "code",
   "execution_count": 15,
   "metadata": {},
   "outputs": [
    {
     "name": "stdout",
     "output_type": "stream",
     "text": [
      "[1904, 1783, 1815, 1687, 1683, 1817, 1830, 1591, 1419, 2023, 1166, 3966, 1992, 1908, 1661, 1887, 1629, 1799]\n"
     ]
    }
   ],
   "source": [
    "poslist = []\n",
    "boxes = outputs[\"instances\"].pred_boxes.tensor\n",
    "pred = outputs['instances'].pred_classes\n",
    "masks = outputs[\"instances\"].pred_masks\n",
    "for i in range(outputs['instances'].scores.shape[0]):\n",
    "    if pred[i] == 0: \n",
    "        wide = abs(boxes[i][2] - boxes[i][0])*abs(boxes[i][3]-boxes[i][1])\n",
    "        poslist.append(int(wide))\n",
    "    else:\n",
    "        poslist.append(0)\n",
    "\n",
    "print(poslist)\n",
    "idx = poslist.index(max(poslist))\n",
    "\n",
    "x_s,y_s,x_d,y_d = boxes[idx]"
   ]
  },
  {
   "cell_type": "code",
   "execution_count": 16,
   "metadata": {},
   "outputs": [
    {
     "name": "stdout",
     "output_type": "stream",
     "text": [
      "<class 'detectron2.utils.visualizer.VisImage'>\n",
      "<class 'numpy.ndarray'>\n",
      "(tensor([  0,   0,   0,  ..., 225, 225, 225]), tensor([  0,   1,   2,  ..., 220, 221, 222]))\n",
      "[[224 224 224]\n",
      " [224 224 224]\n",
      " [224 224 224]\n",
      " ...\n",
      " [224 224 224]\n",
      " [224 224 224]\n",
      " [224 224 224]]\n"
     ]
    }
   ],
   "source": [
    "\n",
    "# We can use `Visualizer` to draw the predictions on the image.\n",
    "v = Visualizer(im[:, :, ::-1], MetadataCatalog.get(cfg.DATASETS.TRAIN[0]), scale=1.0)\n",
    "v = v.draw_instance_predictions(outputs[\"instances\"].to(\"cpu\"))\n",
    "print(type(v))\n",
    "#                   box(x_s,y_s,x_d,y_d)\n",
    "#                   img[y_s:y_d, x_s:x_d]\n",
    "vtmp = v.get_image()[:,:,::-1]#[244:480,126:459,::-1]\n",
    "print(type(vtmp))\n",
    "\n",
    "tmp = im[int(y_s):int(y_d),int(x_s):int(x_d)] #네모 박스 칸만큼 slie\n",
    "\n",
    "\n",
    "tim = torch.from_numpy(im.copy())  #tim은  im의 복사본, tensor로 변환\n",
    "\n",
    "be = torch.where(masks[idx]!=True)\n",
    "    \n",
    "#remove background\n",
    "tim[be] = 224\n",
    "\n",
    "tim = tim.numpy()\n",
    "print(be)\n",
    "#tim = tim[int(y_s):int(y_d),int(x_s):int(x_d)]\n",
    "print(tim[be])\n",
    "def fitsize(im,y_s,y_d,x_s,x_d):\n",
    "    y_s,y_d,x_s,x_d = int(y_s),int(y_d),int(x_s),int(x_d)\n",
    "    return im[y_s:y_d,x_s:x_d]"
   ]
  },
  {
   "cell_type": "code",
   "execution_count": 17,
   "metadata": {},
   "outputs": [
    {
     "data": {
      "text/plain": [
       "(226, 223, 3)"
      ]
     },
     "execution_count": 17,
     "metadata": {},
     "output_type": "execute_result"
    }
   ],
   "source": [
    "etim = torch.from_numpy(im.copy())\n",
    "emask = expandMask.expand(masks[idx],20,y_s,y_d,x_s,x_d)\n",
    "ebe = torch.where(emask!=True)\n",
    "etim[ebe] = 224\n",
    "etim = etim.numpy()\n",
    "etim.shape"
   ]
  },
  {
   "cell_type": "code",
   "execution_count": 21,
   "metadata": {},
   "outputs": [],
   "source": [
    "gauss = cv2.GaussianBlur(im,(5,5),1e+10)\n",
    "median = cv2.medianBlur(im,5)\n",
    "tr = torch.where(masks[idx] == True)\n",
    "gauss[tr] = im[tr]\n",
    "median[tr] = im[tr]\n",
    "gauss = fitsize(gauss,int(y_s),int(y_d),int(x_s),int(x_d))\n",
    "median = fitsize(median,int(y_s),int(y_d),int(x_s),int(x_d))\n",
    "\n",
    "# 배경자르기..\n",
    "cv2.imshow('be',tim)\n",
    "cv2.imshow('ori',tmp)\n",
    "cv2.imshow('imagin',gauss)\n",
    "cv2.imshow('median',median)\n",
    "cv2.imshow('test',etim)\n",
    "cv2.waitKey(0)\n",
    "cv2.destroyAllWindows()"
   ]
  },
  {
   "cell_type": "code",
   "execution_count": null,
   "metadata": {},
   "outputs": [],
   "source": []
  }
 ],
 "metadata": {
  "kernelspec": {
   "display_name": "detectron2",
   "language": "python",
   "name": "detectron2"
  },
  "language_info": {
   "codemirror_mode": {
    "name": "ipython",
    "version": 3
   },
   "file_extension": ".py",
   "mimetype": "text/x-python",
   "name": "python",
   "nbconvert_exporter": "python",
   "pygments_lexer": "ipython3",
   "version": "3.6.9"
  }
 },
 "nbformat": 4,
 "nbformat_minor": 2
}
