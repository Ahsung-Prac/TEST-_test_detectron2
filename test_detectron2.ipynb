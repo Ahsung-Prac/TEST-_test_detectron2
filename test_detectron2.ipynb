{
 "cells": [
  {
   "cell_type": "code",
   "execution_count": 1,
   "metadata": {},
   "outputs": [],
   "source": [
    "# You may need to restart your runtime prior to this, to let your installation take effect\n",
    "# Some basic setup\n",
    "# Setup detectron2 logger\n",
    "import detectron2\n",
    "from detectron2.utils.logger import setup_logger\n",
    "setup_logger()\n",
    "\n",
    "# import some common libraries\n",
    "import numpy as np\n",
    "import cv2\n",
    "import random\n",
    "import torch\n",
    "import matplotlib.pyplot as plt\n",
    "# import some common detectron2 utilities\n",
    "from detectron2 import model_zoo\n",
    "from detectron2.engine import DefaultPredictor\n",
    "from detectron2.config import get_cfg\n",
    "from detectron2.utils.visualizer import Visualizer\n",
    "from detectron2.utils.visualizer import VisImage\n",
    "from detectron2.data import MetadataCatalog"
   ]
  },
  {
   "cell_type": "code",
   "execution_count": 2,
   "metadata": {},
   "outputs": [
    {
     "name": "stdout",
     "output_type": "stream",
     "text": [
      "(480, 640, 3)\n",
      "\u001b[5m\u001b[31mWARNING\u001b[0m \u001b[32m[01/07 21:43:38 d2.config.compat]: \u001b[0mConfig '/home/asung/detectron2/detectron2/detectron2/detectron2/model_zoo/configs/../configs/COCO-InstanceSegmentation/mask_rcnn_R_50_FPN_3x.yaml' has no VERSION. Assuming it to be compatible with latest v2.\n"
     ]
    }
   ],
   "source": [
    "im = cv2.imread(\"input.jpg\")\n",
    "print(im.shape)\n",
    "cfg = get_cfg()\n",
    "# add project-specific config (e.g., TensorMask) here if you're not running a model in detectron2's core library\n",
    "cfg.merge_from_file(model_zoo.get_config_file(\"../configs/COCO-InstanceSegmentation/mask_rcnn_R_50_FPN_3x.yaml\"))\n",
    "cfg.MODEL.ROI_HEADS.SCORE_THRESH_TEST = 0.5  # set threshold for this model\n",
    "cfg.merge_from_list(['MODEL.DEVICE','cpu'])\n",
    "# Find a model from detectron2's model zoo. You can either use the https://dl.fbaipublicfiles.... url, or use the detectron2:// shorthand\n",
    "cfg.MODEL.WEIGHTS = \"detectron2://COCO-InstanceSegmentation/mask_rcnn_R_50_FPN_3x/137849600/model_final_f10217.pkl\"\n",
    "predictor = DefaultPredictor(cfg)\n",
    "outputs = predictor(im)"
   ]
  },
  {
   "cell_type": "code",
   "execution_count": 3,
   "metadata": {},
   "outputs": [],
   "source": [
    "# cv2.imshow('image',im)\n",
    "# cv2.waitKey(0)\n",
    "# cv2.destroyAllWindows()"
   ]
  },
  {
   "cell_type": "code",
   "execution_count": 74,
   "metadata": {},
   "outputs": [
    {
     "name": "stdout",
     "output_type": "stream",
     "text": [
      "Instances(num_instances=15, image_height=480, image_width=640, fields=[pred_boxes, scores, pred_classes, pred_masks]) \n",
      "\n",
      "\n",
      "class:  torch.Size([15]) \n",
      " tensor([17,  0,  0,  0,  0,  0,  0,  0, 25,  0, 25, 25,  0,  0, 24]) \n",
      "\n",
      "boxes:  torch.Size([15, 4]) \n",
      " Boxes(tensor([[126.6035, 244.8977, 459.8291, 480.0000],\n",
      "        [251.1083, 157.8127, 338.9731, 413.6379],\n",
      "        [114.8496, 268.6864, 148.2351, 398.8111],\n",
      "        [  0.8217, 281.0327,  78.6072, 478.4210],\n",
      "        [ 49.3954, 274.1229,  80.1545, 342.9808],\n",
      "        [561.2249, 271.5816, 596.2755, 385.2552],\n",
      "        [385.9072, 270.3125, 413.7130, 304.0397],\n",
      "        [515.9295, 278.3744, 562.2792, 389.3803],\n",
      "        [335.2410, 251.9167, 414.7491, 275.9375],\n",
      "        [350.9300, 269.2060, 386.0984, 297.9081],\n",
      "        [331.6292, 230.9996, 393.2759, 257.2009],\n",
      "        [510.7349, 263.2656, 570.9865, 295.9194],\n",
      "        [409.0841, 271.8646, 460.5582, 356.8722],\n",
      "        [506.8766, 283.3257, 529.9404, 324.0392],\n",
      "        [594.5663, 283.4820, 609.0577, 311.4124]])) \n",
      "\n",
      "scores:  torch.Size([15]) \n",
      " tensor([0.9997, 0.9957, 0.9915, 0.9882, 0.9861, 0.9840, 0.9769, 0.9716, 0.9062,\n",
      "        0.9037, 0.8870, 0.8575, 0.6592, 0.5899, 0.5767]) \n",
      "\n",
      "masks:\n",
      " <class 'torch.Tensor'> torch.Size([15, 480, 640]) \n",
      "\n"
     ]
    }
   ],
   "source": [
    "# look at the outputs. See https://detectron2.readthedocs.io/tutorials/models.html#model-output-format for specification\n",
    "#print(outputs)\n",
    "#print(\"\\n\\n\\n\\n\\n\\n\")\n",
    "print(outputs[\"instances\"],\"\\n\\n\")\n",
    "print(\"class: \",outputs[\"instances\"].pred_classes.shape,\"\\n\",outputs[\"instances\"].pred_classes,\"\\n\")\n",
    "print(\"boxes: \",outputs[\"instances\"].pred_boxes.tensor.shape,\"\\n\",outputs[\"instances\"].pred_boxes,\"\\n\")\n",
    "print(\"scores: \" ,outputs[\"instances\"].scores.shape ,\"\\n\",outputs[\"instances\"].scores,\"\\n\")\n",
    "print(\"masks:\\n\",type(outputs[\"instances\"].pred_masks),outputs[\"instances\"].pred_masks.shape,\"\\n\")"
   ]
  },
  {
   "cell_type": "code",
   "execution_count": 132,
   "metadata": {},
   "outputs": [
    {
     "name": "stdout",
     "output_type": "stream",
     "text": [
      "[0, 22478, 4344, 15353, 2118, 3984, 937, 5145, 0, 1009, 0, 0, 4375, 939, 0]\n"
     ]
    }
   ],
   "source": [
    "poslist = []\n",
    "boxes = outputs[\"instances\"].pred_boxes.tensor\n",
    "pred = outputs['instances'].pred_classes\n",
    "masks = outputs[\"instances\"].pred_masks\n",
    "for i in range(outputs['instances'].scores.shape[0]):\n",
    "    if pred[i] == 0: \n",
    "        wide = abs(boxes[i][2] - boxes[i][0])*abs(boxes[i][3]-boxes[i][1])\n",
    "        poslist.append(int(wide))\n",
    "    else:\n",
    "        poslist.append(0)\n",
    "\n",
    "print(poslist)\n",
    "idx = poslist.index(max(poslist))\n",
    "\n",
    "x_s,y_s,x_d,y_d = boxes[idx]"
   ]
  },
  {
   "cell_type": "code",
   "execution_count": 133,
   "metadata": {},
   "outputs": [
    {
     "name": "stdout",
     "output_type": "stream",
     "text": [
      "<class 'detectron2.utils.visualizer.VisImage'>\n",
      "<class 'numpy.ndarray'>\n",
      "(tensor([  0,   0,   0,  ..., 479, 479, 479]), tensor([  0,   1,   2,  ..., 637, 638, 639]))\n",
      "[[224 224 224]\n",
      " [224 224 224]\n",
      " [224 224 224]\n",
      " ...\n",
      " [224 224 224]\n",
      " [224 224 224]\n",
      " [224 224 224]]\n"
     ]
    }
   ],
   "source": [
    "def binarysearch(mask,x_s,x_d,flag):\n",
    "    maskArry = torch.where(mask == True)[0] \n",
    "    if maskArry.size() == torch.Size([0]):\n",
    "        return -1\n",
    "    if flag :\n",
    "        src = min(maskArry)+1\n",
    "    else : src = max(maskArry)-1\n",
    "    return src\n",
    "    \n",
    "\n",
    "def expand(masks,size,y_s,y_d,x_s,x_d):\n",
    "    mask = masks.clone()\n",
    "    masktemp = masks.clone()\n",
    "    y_s,y_d,x_s,x_d = int(y_s),int(y_d),int(x_s),int(x_d)\n",
    "    for i in range(y_s,y_d):\n",
    "        leftx = binarysearch(masktemp[i],x_s,x_d,True)\n",
    "        rightx = binarysearch(masktemp[i],x_s,x_d,False)\n",
    "        if leftx == -1 :\n",
    "            continue\n",
    "        #print(leftx,rightx)\n",
    "        for j in range(size):\n",
    "            mask[i][leftx-j] = True    #왼쪽으로 쭉          \n",
    "            mask[i][rightx+j] = True\n",
    "            \n",
    "    masktemp = masks.clone()\n",
    "    for i in range(x_s,x_d):\n",
    "        upy = binarysearch(masktemp.T[i],y_s,y_d,True)\n",
    "        downy = binarysearch(masktemp.T[i],y_s,y_d,False)\n",
    "        if upy == -1 :\n",
    "            continue\n",
    "        for j in range(size):\n",
    "            mask[upy-j][i] = True    #위로 쭉\n",
    "            mask[downy+j][i] = True\n",
    "    return mask\n",
    "    \n",
    "\n",
    "\n",
    "# We can use `Visualizer` to draw the predictions on the image.\n",
    "v = Visualizer(im[:, :, ::-1], MetadataCatalog.get(cfg.DATASETS.TRAIN[0]), scale=1.0)\n",
    "v = v.draw_instance_predictions(outputs[\"instances\"].to(\"cpu\"))\n",
    "print(type(v))\n",
    "#                   box(x_s,y_s,x_d,y_d)\n",
    "#                   img[y_s:y_d, x_s:x_d]\n",
    "vtmp = v.get_image()[:,:,::-1]#[244:480,126:459,::-1]\n",
    "print(type(vtmp))\n",
    "\n",
    "tmp = im[int(y_s):int(y_d),int(x_s):int(x_d)] #네모 박스 칸만큼 slie\n",
    "\n",
    "\n",
    "tim = torch.from_numpy(im.copy())  #tim은  im의 복사본, tensor로 변환\n",
    "\n",
    "be = torch.where(masks[idx]!=True)\n",
    "    \n",
    "#remove background\n",
    "tim[be] = 224\n",
    "\n",
    "tim = tim.numpy()\n",
    "print(be)\n",
    "#tim = tim[int(y_s):int(y_d),int(x_s):int(x_d)]\n",
    "print(tim[be])\n",
    "def fitsize(im,y_s,y_d,x_s,x_d):\n",
    "    y_s,y_d,x_s,x_d = int(y_s),int(y_d),int(x_s),int(x_d)\n",
    "    return im[y_s:y_d,x_s:x_d]"
   ]
  },
  {
   "cell_type": "code",
   "execution_count": 134,
   "metadata": {},
   "outputs": [
    {
     "data": {
      "text/plain": [
       "(480, 640, 3)"
      ]
     },
     "execution_count": 134,
     "metadata": {},
     "output_type": "execute_result"
    }
   ],
   "source": [
    "etim = torch.from_numpy(im.copy())\n",
    "emask = expand(masks[idx],20,y_s,y_d,x_s,x_d)\n",
    "ebe = torch.where(emask!=True)\n",
    "etim[ebe] = 224\n",
    "etim = etim.numpy()\n",
    "etim.shape"
   ]
  },
  {
   "cell_type": "code",
   "execution_count": 135,
   "metadata": {},
   "outputs": [],
   "source": [
    "gauss = cv2.GaussianBlur(im,(5,5),1e+10)\n",
    "median = cv2.medianBlur(im,5)\n",
    "tr = torch.where(masks[idx] == True)\n",
    "blur[tr] = im[tr]\n",
    "median[tr] = im[tr]\n",
    "blur = fitsize(blur,int(y_s),int(y_d),int(x_s),int(x_d))\n",
    "median = fitsize(median,int(y_s),int(y_d),int(x_s),int(x_d))\n",
    "\n",
    "# 배경자르기..\n",
    "cv2.imshow('be',tim)\n",
    "cv2.imshow('ori',tmp)\n",
    "cv2.imshow('imagin',blur)\n",
    "cv2.imshow('median',median)\n",
    "cv2.imshow('test',etim)\n",
    "cv2.waitKey(0)\n",
    "cv2.destroyAllWindows()"
   ]
  },
  {
   "cell_type": "code",
   "execution_count": null,
   "metadata": {},
   "outputs": [],
   "source": []
  }
 ],
 "metadata": {
  "kernelspec": {
   "display_name": "detectron2",
   "language": "python",
   "name": "detectron2"
  },
  "language_info": {
   "codemirror_mode": {
    "name": "ipython",
    "version": 3
   },
   "file_extension": ".py",
   "mimetype": "text/x-python",
   "name": "python",
   "nbconvert_exporter": "python",
   "pygments_lexer": "ipython3",
   "version": "3.6.9"
  }
 },
 "nbformat": 4,
 "nbformat_minor": 2
}
