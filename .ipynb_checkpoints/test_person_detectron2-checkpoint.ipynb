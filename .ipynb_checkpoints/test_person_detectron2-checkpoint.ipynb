{
 "cells": [
  {
   "cell_type": "code",
   "execution_count": 2,
   "metadata": {},
   "outputs": [],
   "source": [
    "# You may need to restart your runtime prior to this, to let your installation take effect\n",
    "# Some basic setup\n",
    "# Setup detectron2 logger\n",
    "import detectron2\n",
    "from detectron2.utils.logger import setup_logger\n",
    "setup_logger()\n",
    "\n",
    "# import some common libraries\n",
    "import numpy as np\n",
    "import cv2\n",
    "import random\n",
    "import torch\n",
    "import matplotlib.pyplot as plt\n",
    "import expandMask\n",
    "# import some common detectron2 utilities\n",
    "from detectron2 import model_zoo\n",
    "from detectron2.engine import DefaultPredictor\n",
    "from detectron2.config import get_cfg\n",
    "from detectron2.utils.visualizer import Visualizer\n",
    "from detectron2.utils.visualizer import VisImage\n",
    "from detectron2.data import MetadataCatalog"
   ]
  },
  {
   "cell_type": "code",
   "execution_count": 12,
   "metadata": {},
   "outputs": [
    {
     "name": "stdout",
     "output_type": "stream",
     "text": [
      "(169, 298, 3)\n"
     ]
    }
   ],
   "source": [
    "im = cv2.imread(\"/home/asung/detImage/h.jpg\")\n",
    "print(im.shape)"
   ]
  },
  {
   "cell_type": "code",
   "execution_count": 13,
   "metadata": {},
   "outputs": [],
   "source": [
    "cfg = get_cfg()\n",
    "# add project-specific config (e.g., TensorMask) here if you're not running a model in detectron2's core library\n",
    "# start path in configs [dir]\n",
    "fileName = \"COCO-Keypoints/keypoint_rcnn_R_50_FPN_3x.yaml\"\n",
    "model = model_zoo.get_config_file(fileName)\n",
    "\n",
    "cfg.merge_from_file(model)\n",
    "cfg.MODEL.ROI_HEADS.SCORE_THRESH_TEST = 0.5  # set threshold for this model\n",
    "cfg.merge_from_list(['MODEL.DEVICE','cpu'])\n",
    "\n",
    "# Find a model from detectron2's model zoo. You can either use the https://dl.fbaipublicfiles.... url, or use the detectron2:// shorthand\n",
    "cfg.MODEL.WEIGHTS = \"detectron2://\"+model_zoo.get_weight_suffix(fileName)\n",
    "predictor = DefaultPredictor(cfg)\n",
    "outputs = predictor(im)"
   ]
  },
  {
   "cell_type": "code",
   "execution_count": 14,
   "metadata": {},
   "outputs": [
    {
     "name": "stdout",
     "output_type": "stream",
     "text": [
      "Instances(num_instances=2, image_height=169, image_width=298, fields=[pred_boxes, scores, pred_classes, pred_keypoints]) \n",
      "\n",
      "\n",
      "class:  torch.Size([2]) \n",
      " tensor([0, 0]) \n",
      "\n",
      "boxes:  torch.Size([2, 4]) \n",
      " Boxes(tensor([[138.7585,  44.5024, 260.5030, 166.7823],\n",
      "        [ 40.3059,  20.9331, 135.1292, 164.7567]])) \n",
      "\n",
      "scores:  torch.Size([2]) \n",
      " tensor([0.9986, 0.9927]) \n",
      "\n",
      "keypoint:\n",
      " torch.Size([2, 17, 3]) \n",
      " tensor([[[2.0410e+02, 7.7192e+01, 1.1236e+00],\n",
      "         [2.1169e+02, 7.0275e+01, 1.2688e+00],\n",
      "         [1.9762e+02, 7.0498e+01, 2.6219e+00],\n",
      "         [2.2152e+02, 7.3399e+01, 4.2509e-01],\n",
      "         [1.9159e+02, 7.4738e+01, 4.4546e-01],\n",
      "         [2.4297e+02, 1.0754e+02, 1.5389e-01],\n",
      "         [1.8444e+02, 1.0843e+02, 1.4211e-01],\n",
      "         [2.5168e+02, 1.5641e+02, 1.2011e-01],\n",
      "         [1.4803e+02, 1.0241e+02, 2.8625e-01],\n",
      "         [2.5548e+02, 1.6645e+02, 1.2964e-01],\n",
      "         [1.7796e+02, 9.0804e+01, 4.3191e-01],\n",
      "         [2.3426e+02, 1.6645e+02, 9.9668e-02],\n",
      "         [1.9338e+02, 1.6645e+02, 7.8100e-02],\n",
      "         [2.6017e+02, 1.6645e+02, 5.6723e-02],\n",
      "         [1.3909e+02, 1.6645e+02, 1.9762e-02],\n",
      "         [2.6017e+02, 1.6645e+02, 5.9420e-02],\n",
      "         [1.8020e+02, 9.0134e+01, 7.5986e-02]],\n",
      "\n",
      "        [[1.1650e+02, 5.7001e+01, 1.1951e+00],\n",
      "         [1.1538e+02, 4.9631e+01, 7.2439e-01],\n",
      "         [1.1204e+02, 4.9631e+01, 8.3847e-01],\n",
      "         [9.1064e+01, 5.4767e+01, 3.9356e-01],\n",
      "         [9.1510e+01, 5.4767e+01, 8.1733e-01],\n",
      "         [8.6379e+01, 8.7373e+01, 3.8936e-02],\n",
      "         [7.2100e+01, 9.0500e+01, 6.7322e-02],\n",
      "         [1.1806e+02, 1.3405e+02, 2.4424e-02],\n",
      "         [1.1137e+02, 1.4142e+02, 1.0411e-01],\n",
      "         [1.2319e+02, 8.8267e+01, 1.6161e-01],\n",
      "         [1.2342e+02, 9.1617e+01, 3.0568e-01],\n",
      "         [9.0618e+01, 1.6442e+02, 1.7208e-02],\n",
      "         [8.5933e+01, 1.6442e+02, 1.4581e-02],\n",
      "         [1.2832e+02, 1.5683e+02, 2.4552e-02],\n",
      "         [1.2498e+02, 1.5839e+02, 1.6334e-02],\n",
      "         [1.3479e+02, 1.6442e+02, 1.2373e-02],\n",
      "         [4.0641e+01, 1.6442e+02, 2.6618e-02]]]) \n",
      "\n"
     ]
    }
   ],
   "source": [
    "# look at the outputs. See https://detectron2.readthedocs.io/tutorials/models.html#model-output-format for specification\n",
    "#print(outputs)\n",
    "#print(\"\\n\\n\\n\\n\\n\\n\")\n",
    "print(outputs[\"instances\"],\"\\n\\n\")\n",
    "print(\"class: \",outputs[\"instances\"].pred_classes.shape,\"\\n\",outputs[\"instances\"].pred_classes,\"\\n\")\n",
    "print(\"boxes: \",outputs[\"instances\"].pred_boxes.tensor.shape,\"\\n\",outputs[\"instances\"].pred_boxes,\"\\n\")\n",
    "print(\"scores: \" ,outputs[\"instances\"].scores.shape ,\"\\n\",outputs[\"instances\"].scores,\"\\n\")\n",
    "print(\"keypoint:\\n\",outputs[\"instances\"].pred_keypoints.shape ,\"\\n\",outputs[\"instances\"].pred_keypoints,\"\\n\")"
   ]
  },
  {
   "cell_type": "code",
   "execution_count": 25,
   "metadata": {},
   "outputs": [
    {
     "data": {
      "text/plain": [
       "tensor(0.0389)"
      ]
     },
     "execution_count": 25,
     "metadata": {},
     "output_type": "execute_result"
    }
   ],
   "source": [
    "outputs[\"instances\"].pred_keypoints[1][5][2]"
   ]
  },
  {
   "cell_type": "code",
   "execution_count": 15,
   "metadata": {},
   "outputs": [
    {
     "name": "stdout",
     "output_type": "stream",
     "text": [
      "[1904, 1783, 1815, 1687, 1683, 1817, 1830, 1591, 1419, 2023, 1166, 3966, 1992, 1908, 1661, 1887, 1629, 1799]\n"
     ]
    }
   ],
   "source": [
    "poslist = []\n",
    "boxes = outputs[\"instances\"].pred_boxes.tensor\n",
    "pred = outputs['instances'].pred_classes\n",
    "masks = outputs[\"instances\"].pred_masks\n",
    "for i in range(outputs['instances'].scores.shape[0]):\n",
    "    if pred[i] == 0: \n",
    "        wide = abs(boxes[i][2] - boxes[i][0])*abs(boxes[i][3]-boxes[i][1])\n",
    "        poslist.append(int(wide))\n",
    "    else:\n",
    "        poslist.append(0)\n",
    "\n",
    "print(poslist)\n",
    "idx = poslist.index(max(poslist))\n",
    "\n",
    "x_s,y_s,x_d,y_d = boxes[idx]"
   ]
  },
  {
   "cell_type": "code",
   "execution_count": 16,
   "metadata": {},
   "outputs": [
    {
     "name": "stdout",
     "output_type": "stream",
     "text": [
      "<class 'detectron2.utils.visualizer.VisImage'>\n",
      "<class 'numpy.ndarray'>\n",
      "(tensor([  0,   0,   0,  ..., 225, 225, 225]), tensor([  0,   1,   2,  ..., 220, 221, 222]))\n",
      "[[224 224 224]\n",
      " [224 224 224]\n",
      " [224 224 224]\n",
      " ...\n",
      " [224 224 224]\n",
      " [224 224 224]\n",
      " [224 224 224]]\n"
     ]
    }
   ],
   "source": [
    "\n",
    "# We can use `Visualizer` to draw the predictions on the image.\n",
    "v = Visualizer(im[:, :, ::-1], MetadataCatalog.get(cfg.DATASETS.TRAIN[0]), scale=1.0)\n",
    "v = v.draw_instance_predictions(outputs[\"instances\"].to(\"cpu\"))\n",
    "print(type(v))\n",
    "#                   box(x_s,y_s,x_d,y_d)\n",
    "#                   img[y_s:y_d, x_s:x_d]\n",
    "vtmp = v.get_image()[:,:,::-1]#[244:480,126:459,::-1]\n",
    "print(type(vtmp))\n",
    "\n",
    "tmp = im[int(y_s):int(y_d),int(x_s):int(x_d)] #네모 박스 칸만큼 slie\n",
    "\n",
    "\n",
    "tim = torch.from_numpy(im.copy())  #tim은  im의 복사본, tensor로 변환\n",
    "\n",
    "be = torch.where(masks[idx]!=True)\n",
    "    \n",
    "#remove background\n",
    "tim[be] = 224\n",
    "\n",
    "tim = tim.numpy()\n",
    "print(be)\n",
    "#tim = tim[int(y_s):int(y_d),int(x_s):int(x_d)]\n",
    "print(tim[be])\n",
    "def fitsize(im,y_s,y_d,x_s,x_d):\n",
    "    y_s,y_d,x_s,x_d = int(y_s),int(y_d),int(x_s),int(x_d)\n",
    "    return im[y_s:y_d,x_s:x_d]"
   ]
  },
  {
   "cell_type": "code",
   "execution_count": 17,
   "metadata": {},
   "outputs": [
    {
     "data": {
      "text/plain": [
       "(226, 223, 3)"
      ]
     },
     "execution_count": 17,
     "metadata": {},
     "output_type": "execute_result"
    }
   ],
   "source": [
    "etim = torch.from_numpy(im.copy())\n",
    "emask = expandMask.expand(masks[idx],20,y_s,y_d,x_s,x_d)\n",
    "ebe = torch.where(emask!=True)\n",
    "etim[ebe] = 224\n",
    "etim = etim.numpy()\n",
    "etim.shape"
   ]
  },
  {
   "cell_type": "code",
   "execution_count": 21,
   "metadata": {},
   "outputs": [],
   "source": [
    "gauss = cv2.GaussianBlur(im,(5,5),1e+10)\n",
    "median = cv2.medianBlur(im,5)\n",
    "tr = torch.where(masks[idx] == True)\n",
    "gauss[tr] = im[tr]\n",
    "median[tr] = im[tr]\n",
    "gauss = fitsize(gauss,int(y_s),int(y_d),int(x_s),int(x_d))\n",
    "median = fitsize(median,int(y_s),int(y_d),int(x_s),int(x_d))\n",
    "\n",
    "# 배경자르기..\n",
    "cv2.imshow('be',tim)\n",
    "cv2.imshow('ori',tmp)\n",
    "cv2.imshow('imagin',gauss)\n",
    "cv2.imshow('median',median)\n",
    "cv2.imshow('test',etim)\n",
    "cv2.waitKey(0)\n",
    "cv2.destroyAllWindows()"
   ]
  },
  {
   "cell_type": "code",
   "execution_count": null,
   "metadata": {},
   "outputs": [],
   "source": []
  }
 ],
 "metadata": {
  "kernelspec": {
   "display_name": "detectron2",
   "language": "python",
   "name": "detectron2"
  },
  "language_info": {
   "codemirror_mode": {
    "name": "ipython",
    "version": 3
   },
   "file_extension": ".py",
   "mimetype": "text/x-python",
   "name": "python",
   "nbconvert_exporter": "python",
   "pygments_lexer": "ipython3",
   "version": "3.6.9"
  }
 },
 "nbformat": 4,
 "nbformat_minor": 2
}
