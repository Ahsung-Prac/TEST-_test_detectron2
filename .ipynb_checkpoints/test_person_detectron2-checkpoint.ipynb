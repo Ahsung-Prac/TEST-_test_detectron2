{
 "cells": [
  {
   "cell_type": "code",
   "execution_count": 4,
   "metadata": {},
   "outputs": [],
   "source": [
    "# You may need to restart your runtime prior to this, to let your installation take effect\n",
    "# Some basic setup\n",
    "# Setup detectron2 logger\n",
    "import detectron2\n",
    "from detectron2.utils.logger import setup_logger\n",
    "setup_logger()\n",
    "\n",
    "# import some common libraries\n",
    "import numpy as np\n",
    "import cv2\n",
    "import random\n",
    "import torch\n",
    "import matplotlib.pyplot as plt\n",
    "# import some common detectron2 utilities\n",
    "from detectron2 import model_zoo\n",
    "from detectron2.engine import DefaultPredictor\n",
    "from detectron2.config import get_cfg\n",
    "from detectron2.utils.visualizer import Visualizer\n",
    "from detectron2.utils.visualizer import VisImage\n",
    "from detectron2.data import MetadataCatalog"
   ]
  },
  {
   "cell_type": "code",
   "execution_count": 5,
   "metadata": {},
   "outputs": [
    {
     "name": "stdout",
     "output_type": "stream",
     "text": [
      "(226, 223, 3)\n",
      "\u001b[5m\u001b[31mWARNING\u001b[0m \u001b[32m[01/08 14:07:41 d2.config.compat]: \u001b[0mConfig '/home/asung/detectron2/detectron2/detectron2/detectron2/model_zoo/configs/../configs/COCO-InstanceSegmentation/mask_rcnn_R_50_FPN_3x.yaml' has no VERSION. Assuming it to be compatible with latest v2.\n"
     ]
    }
   ],
   "source": [
    "im = cv2.imread(\"/home/asung/detImage/i1.jpeg\")\n",
    "print(im.shape)\n",
    "cfg = get_cfg()\n",
    "# add project-specific config (e.g., TensorMask) here if you're not running a model in detectron2's core library\n",
    "cfg.merge_from_file(model_zoo.get_config_file(\"../configs/COCO-InstanceSegmentation/mask_rcnn_R_50_FPN_3x.yaml\"))\n",
    "cfg.MODEL.ROI_HEADS.SCORE_THRESH_TEST = 0.5  # set threshold for this model\n",
    "cfg.merge_from_list(['MODEL.DEVICE','cpu'])\n",
    "# Find a model from detectron2's model zoo. You can either use the https://dl.fbaipublicfiles.... url, or use the detectron2:// shorthand\n",
    "cfg.MODEL.WEIGHTS = \"detectron2://COCO-InstanceSegmentation/mask_rcnn_R_50_FPN_3x/137849600/model_final_f10217.pkl\"\n",
    "predictor = DefaultPredictor(cfg)\n",
    "outputs = predictor(im)"
   ]
  },
  {
   "cell_type": "code",
   "execution_count": 6,
   "metadata": {},
   "outputs": [],
   "source": [
    "# cv2.imshow('image',im)\n",
    "# cv2.waitKey(0)\n",
    "# cv2.destroyAllWindows()"
   ]
  },
  {
   "cell_type": "code",
   "execution_count": 7,
   "metadata": {},
   "outputs": [
    {
     "name": "stdout",
     "output_type": "stream",
     "text": [
      "Instances(num_instances=18, image_height=226, image_width=223, fields=[pred_boxes, scores, pred_classes, pred_masks]) \n",
      "\n",
      "\n",
      "class:  torch.Size([18]) \n",
      " tensor([0, 0, 0, 0, 0, 0, 0, 0, 0, 0, 0, 0, 0, 0, 0, 0, 0, 0]) \n",
      "\n",
      "boxes:  torch.Size([18, 4]) \n",
      " Boxes(tensor([[185.0719,  87.3881, 211.6080, 159.1627],\n",
      "        [  6.1020,  82.1559,  28.9764, 160.1128],\n",
      "        [192.9074,   8.1749, 217.7555,  81.2528],\n",
      "        [156.7327,  86.5456, 179.3271, 161.2422],\n",
      "        [101.8117,  84.5387, 124.2026, 159.7381],\n",
      "        [ 49.5436,  84.6666,  73.8073, 159.5782],\n",
      "        [125.3554,  85.1703, 150.3885, 158.2778],\n",
      "        [ 75.7524,  82.8688,  96.6719, 158.9451],\n",
      "        [143.6799,   8.3904, 162.5655,  83.5418],\n",
      "        [  4.8357,   4.6876,  30.8967,  82.3265],\n",
      "        [ 33.2452,  84.2627,  48.9254, 158.6440],\n",
      "        [111.5965, 157.3234, 173.0128, 221.8992],\n",
      "        [ 67.8059,   5.1871,  94.4321,  80.0218],\n",
      "        [166.1583,   7.2221, 191.1668,  83.5533],\n",
      "        [118.9225,   5.8232, 140.7136,  82.0532],\n",
      "        [ 96.2378,   3.6239, 120.8920,  80.1858],\n",
      "        [ 29.5012,   4.7295,  50.1665,  83.5785],\n",
      "        [ 49.8793,   6.3710,  74.3676,  79.8617]])) \n",
      "\n",
      "scores:  torch.Size([18]) \n",
      " tensor([0.9976, 0.9973, 0.9972, 0.9968, 0.9967, 0.9962, 0.9947, 0.9944, 0.9910,\n",
      "        0.9906, 0.9906, 0.9891, 0.9885, 0.9882, 0.9852, 0.9848, 0.9846, 0.9765]) \n",
      "\n",
      "masks:\n",
      " <class 'torch.Tensor'> torch.Size([18, 226, 223]) \n",
      "\n"
     ]
    }
   ],
   "source": [
    "# look at the outputs. See https://detectron2.readthedocs.io/tutorials/models.html#model-output-format for specification\n",
    "#print(outputs)\n",
    "#print(\"\\n\\n\\n\\n\\n\\n\")\n",
    "print(outputs[\"instances\"],\"\\n\\n\")\n",
    "print(\"class: \",outputs[\"instances\"].pred_classes.shape,\"\\n\",outputs[\"instances\"].pred_classes,\"\\n\")\n",
    "print(\"boxes: \",outputs[\"instances\"].pred_boxes.tensor.shape,\"\\n\",outputs[\"instances\"].pred_boxes,\"\\n\")\n",
    "print(\"scores: \" ,outputs[\"instances\"].scores.shape ,\"\\n\",outputs[\"instances\"].scores,\"\\n\")\n",
    "print(\"masks:\\n\",type(outputs[\"instances\"].pred_masks),outputs[\"instances\"].pred_masks.shape,\"\\n\")"
   ]
  },
  {
   "cell_type": "code",
   "execution_count": 8,
   "metadata": {},
   "outputs": [
    {
     "name": "stdout",
     "output_type": "stream",
     "text": [
      "[1904, 1783, 1815, 1687, 1683, 1817, 1830, 1591, 1419, 2023, 1166, 3966, 1992, 1908, 1661, 1887, 1629, 1799]\n"
     ]
    }
   ],
   "source": [
    "poslist = []\n",
    "boxes = outputs[\"instances\"].pred_boxes.tensor\n",
    "pred = outputs['instances'].pred_classes\n",
    "masks = outputs[\"instances\"].pred_masks\n",
    "for i in range(outputs['instances'].scores.shape[0]):\n",
    "    if pred[i] == 0: \n",
    "        wide = abs(boxes[i][2] - boxes[i][0])*abs(boxes[i][3]-boxes[i][1])\n",
    "        poslist.append(int(wide))\n",
    "    else:\n",
    "        poslist.append(0)\n",
    "\n",
    "print(poslist)\n",
    "idx = poslist.index(max(poslist))\n",
    "\n",
    "x_s,y_s,x_d,y_d = boxes[idx]"
   ]
  },
  {
   "cell_type": "code",
   "execution_count": 9,
   "metadata": {},
   "outputs": [
    {
     "name": "stdout",
     "output_type": "stream",
     "text": [
      "<class 'detectron2.utils.visualizer.VisImage'>\n",
      "<class 'numpy.ndarray'>\n",
      "(tensor([  0,   0,   0,  ..., 225, 225, 225]), tensor([  0,   1,   2,  ..., 220, 221, 222]))\n",
      "[[224 224 224]\n",
      " [224 224 224]\n",
      " [224 224 224]\n",
      " ...\n",
      " [224 224 224]\n",
      " [224 224 224]\n",
      " [224 224 224]]\n"
     ]
    }
   ],
   "source": [
    "def binarysearch(mask,x_s,x_d,flag):\n",
    "    maskArry = torch.where(mask == True)[0] \n",
    "    if maskArry.size() == torch.Size([0]):\n",
    "        return -1\n",
    "    if flag :\n",
    "        src = maskArry[0]+1\n",
    "    else : src = maskArry[-1]-1\n",
    "    return src\n",
    "    \n",
    "\n",
    "def expand(masks,size,y_s,y_d,x_s,x_d):\n",
    "    mask = masks.clone()\n",
    "    masktemp = masks.clone()\n",
    "    y_s,y_d,x_s,x_d = int(y_s),int(y_d),int(x_s),int(x_d)\n",
    "    for i in range(y_s,y_d):\n",
    "        leftx = binarysearch(masktemp[i],x_s,x_d,True)\n",
    "        rightx = binarysearch(masktemp[i],x_s,x_d,False)\n",
    "        if leftx == -1 :\n",
    "            continue\n",
    "        mleft = max(leftx-size,0)\n",
    "        mright = min(rightx+size,mask.shape[1])\n",
    "        mask[i][mleft:leftx] = True    #왼쪽으로 쭉          \n",
    "        mask[i][rightx:mright] = True  #오른쪽으로 쭉\n",
    "\n",
    "            \n",
    "    masktemp = masks.clone()\n",
    "    temp1 = 999999; temp2 = 0;\n",
    "    for i in range(x_s,x_d):\n",
    "        upy = binarysearch(masktemp.T[i],y_s,y_d,True)\n",
    "        downy = binarysearch(masktemp.T[i],y_s,y_d,False)\n",
    "\n",
    "        if upy == -1 :\n",
    "            continue\n",
    "        mup = max(upy-size,0)\n",
    "        mdown = min(downy+size,mask.shape[0])\n",
    "        mask.T[i][mup:upy] = True     #위로 쭉\n",
    "        mask.T[i][downy:mdown] = True #아래로 쭉\n",
    "\n",
    "    return mask\n",
    "    \n",
    "\n",
    "\n",
    "# We can use `Visualizer` to draw the predictions on the image.\n",
    "v = Visualizer(im[:, :, ::-1], MetadataCatalog.get(cfg.DATASETS.TRAIN[0]), scale=1.0)\n",
    "v = v.draw_instance_predictions(outputs[\"instances\"].to(\"cpu\"))\n",
    "print(type(v))\n",
    "#                   box(x_s,y_s,x_d,y_d)\n",
    "#                   img[y_s:y_d, x_s:x_d]\n",
    "vtmp = v.get_image()[:,:,::-1]#[244:480,126:459,::-1]\n",
    "print(type(vtmp))\n",
    "\n",
    "tmp = im[int(y_s):int(y_d),int(x_s):int(x_d)] #네모 박스 칸만큼 slie\n",
    "\n",
    "\n",
    "tim = torch.from_numpy(im.copy())  #tim은  im의 복사본, tensor로 변환\n",
    "\n",
    "be = torch.where(masks[idx]!=True)\n",
    "    \n",
    "#remove background\n",
    "tim[be] = 224\n",
    "\n",
    "tim = tim.numpy()\n",
    "print(be)\n",
    "#tim = tim[int(y_s):int(y_d),int(x_s):int(x_d)]\n",
    "print(tim[be])\n",
    "def fitsize(im,y_s,y_d,x_s,x_d):\n",
    "    y_s,y_d,x_s,x_d = int(y_s),int(y_d),int(x_s),int(x_d)\n",
    "    return im[y_s:y_d,x_s:x_d]"
   ]
  },
  {
   "cell_type": "code",
   "execution_count": 10,
   "metadata": {},
   "outputs": [
    {
     "data": {
      "text/plain": [
       "(226, 223, 3)"
      ]
     },
     "execution_count": 10,
     "metadata": {},
     "output_type": "execute_result"
    }
   ],
   "source": [
    "etim = torch.from_numpy(im.copy())\n",
    "emask = expand(masks[idx],20,y_s,y_d,x_s,x_d)\n",
    "ebe = torch.where(emask!=True)\n",
    "etim[ebe] = 224\n",
    "etim = etim.numpy()\n",
    "etim.shape"
   ]
  },
  {
   "cell_type": "code",
   "execution_count": 11,
   "metadata": {},
   "outputs": [],
   "source": [
    "gauss = cv2.GaussianBlur(im,(5,5),1e+10)\n",
    "median = cv2.medianBlur(im,5)\n",
    "tr = torch.where(masks[idx] == True)\n",
    "gauss[tr] = im[tr]\n",
    "median[tr] = im[tr]\n",
    "gauss = fitsize(gauss,int(y_s),int(y_d),int(x_s),int(x_d))\n",
    "median = fitsize(median,int(y_s),int(y_d),int(x_s),int(x_d))\n",
    "\n",
    "# 배경자르기..\n",
    "cv2.imshow('be',tim)\n",
    "cv2.imshow('ori',tmp)\n",
    "cv2.imshow('imagin',gauss)\n",
    "cv2.imshow('median',median)\n",
    "cv2.imshow('test',etim)\n",
    "cv2.waitKey(0)\n",
    "cv2.destroyAllWindows()"
   ]
  },
  {
   "cell_type": "code",
   "execution_count": null,
   "metadata": {},
   "outputs": [],
   "source": []
  }
 ],
 "metadata": {
  "kernelspec": {
   "display_name": "detectron2",
   "language": "python",
   "name": "detectron2"
  },
  "language_info": {
   "codemirror_mode": {
    "name": "ipython",
    "version": 3
   },
   "file_extension": ".py",
   "mimetype": "text/x-python",
   "name": "python",
   "nbconvert_exporter": "python",
   "pygments_lexer": "ipython3",
   "version": "3.6.9"
  }
 },
 "nbformat": 4,
 "nbformat_minor": 2
}
